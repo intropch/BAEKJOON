{
  "nbformat": 4,
  "nbformat_minor": 0,
  "metadata": {
    "colab": {
      "name": "Bjoontest.ipynb",
      "provenance": [],
      "collapsed_sections": [],
      "authorship_tag": "ABX9TyPqjlCGWPiAACi6+G8LYBx0",
      "include_colab_link": true
    },
    "kernelspec": {
      "name": "python3",
      "display_name": "Python 3"
    },
    "language_info": {
      "name": "python"
    },
    "accelerator": "GPU"
  },
  "cells": [
    {
      "cell_type": "markdown",
      "metadata": {
        "id": "view-in-github",
        "colab_type": "text"
      },
      "source": [
        "<a href=\"https://colab.research.google.com/github/intropch/BAEKJOON/blob/main/Bjoontest.ipynb\" target=\"_parent\"><img src=\"https://colab.research.google.com/assets/colab-badge.svg\" alt=\"Open In Colab\"/></a>"
      ]
    },
    {
      "cell_type": "code",
      "metadata": {
        "id": "w0WfmyiCnkHu",
        "colab": {
          "base_uri": "https://localhost:8080/"
        },
        "outputId": "17740da9-d9ae-42f5-d42b-70b97ef5bbe4"
      },
      "source": [
        "# 1000번 개알못\n",
        "\n",
        "a, b = map(int,input().split())\n",
        "\n",
        "print(a+b)"
      ],
      "execution_count": 1,
      "outputs": [
        {
          "output_type": "stream",
          "text": [
            "3 5\n",
            "8\n"
          ],
          "name": "stdout"
        }
      ]
    },
    {
      "cell_type": "code",
      "metadata": {
        "id": "uogju64bqGJ9"
      },
      "source": [
        "# 1001번 개알못\n",
        "\n",
        "a, b = map(int,input().split())\n",
        "\n",
        "print(a-b)"
      ],
      "execution_count": null,
      "outputs": []
    },
    {
      "cell_type": "code",
      "metadata": {
        "id": "25BrbXFbzbsK"
      },
      "source": [
        "# 1002번 터넷 개알못\n",
        "\n",
        "n = int(input())\n",
        "\n",
        "for i in range(n):\n",
        "  x1, y1, r1, x2, y2, r2 = map(int, input().split())\n",
        "  r = ( (x1-x2)**2 + (y1-y2)**2 ) ** (1/2)\n",
        "  \n",
        "  if (r==0 and r1==r2) :\n",
        "    print(-1)\n",
        "  elif r > (r1 + r2) or r < abs(r1-r2):\n",
        "    print(0)\n",
        "  elif r == r1+r2 or r == abs(r1-r2) :\n",
        "    print(1)\n",
        "  else :\n",
        "    print(2)"
      ],
      "execution_count": null,
      "outputs": []
    },
    {
      "cell_type": "code",
      "metadata": {
        "id": "PUc74R-rGhjQ"
      },
      "source": [
        "# 1003번 피보나치 개알못\n",
        "\n",
        "def fibonacci (value_desired):\n",
        "  num_0 = [1, 0]\n",
        "  num_1 = [0, 1]\n",
        "\n",
        "  if value_desired == 0 :\n",
        "    print(num_0[0], num_1[0])\n",
        "  if value_desired == 1 :\n",
        "    print(num_0[1], num_1[1])\n",
        "\n",
        "  if value_desired >=2 :\n",
        "    for i in range(2, value_desired+1) :\n",
        "      new_0 = num_0[i-2] + num_0[i-1]\n",
        "      num_0.append(new_0)\n",
        "    \n",
        "      new_1 = num_1[i-2] + num_1[i-1]\n",
        "      num_1.append(new_1)\n",
        "    \n",
        "    print(num_0[value_desired], num_1[value_desired])\n",
        "      \n",
        "number_time = int(input())\n",
        "\n",
        "for i in range(number_time) :\n",
        "  value_desired = int(input())\n",
        "  fibonacci(value_desired)"
      ],
      "execution_count": null,
      "outputs": []
    },
    {
      "cell_type": "code",
      "metadata": {
        "id": "1MlLMe1iIwZa"
      },
      "source": [
        "# 1004번 어린왕자 // 개알못\n",
        "\n",
        "import math\n",
        "\n",
        "number_test = int(input())\n",
        "\n",
        "for i in range (number_test) :\n",
        "  x1, y1, x2, y2 = map(int, input().split())\n",
        "  count = 0\n",
        "  planet_number = int(input()) \n",
        "\n",
        "  for j in range (planet_number) :\n",
        "    cx,cy,cr = map(int, input().split())\n",
        "    distance_1 = math.sqrt((x1-cx)**2+(y1-cy)**2)\n",
        "    distance_2 = math.sqrt((x2-cx)**2+(y2-cy)**2)\n",
        "    \n",
        "    if ((distance_1 > cr) and (distance_2 <cr))or((distance_1 < cr) and (distance_2 > cr)) :\n",
        "      count += 1\n",
        "      \n",
        "  print(count)"
      ],
      "execution_count": null,
      "outputs": []
    },
    {
      "cell_type": "code",
      "metadata": {
        "id": "SgfpfllDL23L"
      },
      "source": [
        "# 1008번 A/B // 개알못\n",
        "\n",
        "a, b = map(int, input().split())\n",
        "print(a/b)"
      ],
      "execution_count": null,
      "outputs": []
    },
    {
      "cell_type": "code",
      "metadata": {
        "id": "v_u_uaUFON5A"
      },
      "source": [
        "# 1152번 단어의 개수 // 개알못\n",
        "\n",
        "number_of_words = input().split()\n",
        "print(len(number_of_words))"
      ],
      "execution_count": null,
      "outputs": []
    },
    {
      "cell_type": "code",
      "metadata": {
        "id": "RXkMMiV3Rq2d"
      },
      "source": [
        "# 1157번 단어 공부 // 개알못\n",
        "\n",
        "word = input().upper()\n",
        "\n",
        "word_nonduplicate = list(set(word))\n",
        "\n",
        "new_list = []\n",
        "\n",
        "for i in word_nonduplicate :\n",
        "  \n",
        "  new_list.append(word.count(i))\n",
        "\n",
        "if new_list.count(max(new_list)) >= 2 :\n",
        "  print(\"?\")\n",
        "\n",
        "else :\n",
        "  print(word_nonduplicate[(new_list.index(max(new_list)))])\n"
      ],
      "execution_count": null,
      "outputs": []
    },
    {
      "cell_type": "code",
      "metadata": {
        "id": "4eHW5UBzIuzd"
      },
      "source": [
        "# 1330번 두 수 비교하기 // 개알못\n",
        "\n",
        "a, b = map(int, input().split())\n",
        "\n",
        "if a > b :\n",
        "  print(\">\")\n",
        "elif a < b :\n",
        "  print(\"<\")\n",
        "else :\n",
        "  print(\"==\")"
      ],
      "execution_count": null,
      "outputs": []
    },
    {
      "cell_type": "code",
      "metadata": {
        "id": "nYVP98HHrBY-"
      },
      "source": [
        "# 1546번 평균 // 개알못\n",
        "\n",
        "number_subject = int(input())\n",
        "\n",
        "score_list = list(map(int, input().split()))\n",
        "\n",
        "max_score = max(score_list)\n",
        "\n",
        "final_score_list = []\n",
        "\n",
        "for i in range(0, number_subject) :\n",
        "  final_score_list.append(score_list[i]/max_score)\n",
        "\n",
        "final_average = sum(final_score_list)/number_subject*100\n",
        "\n",
        "print(final_average)"
      ],
      "execution_count": null,
      "outputs": []
    },
    {
      "cell_type": "code",
      "metadata": {
        "id": "ZEykBO9R_sZX"
      },
      "source": [
        "# 2438번 별 찍기-1 // 개알못\n",
        "\n",
        "N = int(input())\n",
        "for i in range(1, N+1) :\n",
        "  print(\"*\"*i)"
      ],
      "execution_count": null,
      "outputs": []
    },
    {
      "cell_type": "code",
      "metadata": {
        "id": "WjM30xTxI_jO"
      },
      "source": [
        "# 2439번 별 찍기-2 // 개알못\n",
        "\n",
        "N = int(input())\n",
        "for i in range(1, N+1) :\n",
        "  print(\" \"*(N-i)+\"*\"*i)"
      ],
      "execution_count": null,
      "outputs": []
    },
    {
      "cell_type": "code",
      "metadata": {
        "id": "gRC3d6OcvX3L"
      },
      "source": [
        "# 2475번 검증수 // 개알못\n",
        "\n",
        "a = list(map(int, input().split()))\n",
        "b = []\n",
        "\n",
        "for i in range(0, len(a)) :\n",
        "  b.append(a[i]**2)\n",
        "\n",
        "print(sum(b)%10)"
      ],
      "execution_count": null,
      "outputs": []
    },
    {
      "cell_type": "code",
      "metadata": {
        "id": "X8uABXSFylA8"
      },
      "source": [
        "# 1085번 직사각형에서 탈출 // 개알못\n",
        "\n",
        "x, y ,w, h = map(int, input().split())\n",
        "\n",
        "print(min([x, y, w-x, h-y]))"
      ],
      "execution_count": null,
      "outputs": []
    },
    {
      "cell_type": "code",
      "metadata": {
        "id": "Z4f3qhSxmZ-K"
      },
      "source": [
        "# 4153번 직각삼각형 // 개알못\n",
        "\n",
        "def right_triangle(i, j, k) :\n",
        "  x_list = []\n",
        "  x_list.append(i)\n",
        "  x_list.append(j)\n",
        "  x_list.append(k)\n",
        "  x_list.sort() \n",
        "  \n",
        "  if x_list[2]**2 == x_list[0]**2+x_list[1]**2 :\n",
        "    print(\"right\")\n",
        "\n",
        "  else :\n",
        "    print(\"wrong\")\n",
        "\n",
        "while True :\n",
        "  a, b, c = map(int,input().split())\n",
        "\n",
        "  if a == 0 and b == 0 and c == 0 :\n",
        "    break;\n",
        "  \n",
        "  right_triangle(a,b,c)"
      ],
      "execution_count": null,
      "outputs": []
    },
    {
      "cell_type": "code",
      "metadata": {
        "id": "055NkDSFe78r"
      },
      "source": [
        "# 10250번 ACM 호텔 // 개알못\n",
        "\n",
        "Trial = int(input())\n",
        "\n",
        "for i in range (0, Trial) :\n",
        "  \n",
        "  H, W, N = map(int, input().split())\n",
        "  \n",
        "  number_1 = N%H\n",
        "  number_2 = N//H+1\n",
        "\n",
        "  if number_1 ==0 :\n",
        "    number_1 = H\n",
        "    number_2 -= 1\n",
        "  print(number_1*100+number_2)"
      ],
      "execution_count": null,
      "outputs": []
    },
    {
      "cell_type": "code",
      "metadata": {
        "id": "afqF-53Szs-Y"
      },
      "source": [
        "# 2231번 분해합 // 개알못\n",
        "\n",
        "N = int(input())\n",
        "\n",
        "\n",
        "for i in range (1, N+1) :\n",
        "  new = []\n",
        "  \n",
        "  for j in str(i) :\n",
        "    new.append(j)\n",
        "\n",
        "  new_list = list(map(int, new))\n",
        "\n",
        "  if N == sum(new_list)+i :\n",
        "    print(i)\n",
        "    break;\n",
        "\n",
        "if i == N :\n",
        "  print(0)"
      ],
      "execution_count": null,
      "outputs": []
    },
    {
      "cell_type": "code",
      "metadata": {
        "id": "41DzyzzUIIvJ"
      },
      "source": [
        "# 2292번 벌집 // 개알못\n",
        "\n",
        "N = int(input())\n",
        "\n",
        "a_M = 1\n",
        "\n",
        "if N == 1 :\n",
        "  print(1)\n",
        "  \n",
        "for i in range(1,N) :\n",
        "  a_M=a_M+6*i\n",
        "  if N <= a_M :\n",
        "    print(i+1)\n",
        "    break;\n"
      ],
      "execution_count": null,
      "outputs": []
    },
    {
      "cell_type": "code",
      "metadata": {
        "id": "eCHhW0V7FlPY",
        "colab": {
          "base_uri": "https://localhost:8080/"
        },
        "outputId": "73c21948-fc08-4925-a6bc-b079f4c62737"
      },
      "source": [
        "# 2775번 부녀회장이 될테야 // 개알못\n",
        "\n",
        "trial = int(input())\n",
        "\n"
      ],
      "execution_count": null,
      "outputs": [
        {
          "output_type": "stream",
          "text": [
            "123456\n"
          ],
          "name": "stdout"
        }
      ]
    },
    {
      "cell_type": "code",
      "metadata": {
        "colab": {
          "base_uri": "https://localhost:8080/"
        },
        "id": "zeBZB0msBSos",
        "outputId": "2b0abbf9-fcb2-41c8-fca6-74ce2e6ad73b"
      },
      "source": [
        "a = ['1', '2', '3']\n",
        "\n",
        "list_a = list(map(int,a))\n",
        "print(list_a)"
      ],
      "execution_count": null,
      "outputs": [
        {
          "output_type": "stream",
          "text": [
            "[1, 2, 3]\n"
          ],
          "name": "stdout"
        }
      ]
    },
    {
      "cell_type": "code",
      "metadata": {
        "colab": {
          "base_uri": "https://localhost:8080/"
        },
        "id": "uSUqU9z8n2FK",
        "outputId": "6ea8cbd5-5228-40aa-d1ed-446f7298ac69"
      },
      "source": [
        "n = int(input())\n",
        "x = 0\n",
        "for i in range(1, n+1):         # 1부터 n까지\n",
        "    a = list(map(int, str(i)))  # 각 자리 수를 분해\n",
        "    s = i + sum(a)              # 분해합을 구함\n",
        "    if(s == n):                 # 만약 분해합이 n과 같다면\n",
        "        x = i                   # x = i, 종료\n",
        "        break\n",
        "\n",
        "print(x)"
      ],
      "execution_count": null,
      "outputs": [
        {
          "output_type": "stream",
          "text": [
            "132\n",
            "0\n"
          ],
          "name": "stdout"
        }
      ]
    },
    {
      "cell_type": "code",
      "metadata": {
        "id": "1q7wJEvDKtn5",
        "colab": {
          "base_uri": "https://localhost:8080/",
          "height": 135
        },
        "outputId": "65befe6f-dca9-4f7b-9b33-2655a71bc781"
      },
      "source": [
        "number_time = int(input())\n",
        "\n",
        "for i in range(number_time) :\n",
        "   node_number, rule_number = map(int, input().split())\n",
        "      \n",
        "   node_time = list(map(int, input().split()))\n",
        "\n",
        "   node_array = []\n",
        "   for i in range (1, rule_number+1) :\n",
        " \n",
        "      temporary = list(map(int,input().split()))\n",
        "      temporary_list = []\n",
        "      temporary_list.append(temporary)\n",
        "      node_array.append(temporary_list)\n",
        "\n",
        "  final_number = int(intput())\n",
        "  "
      ],
      "execution_count": null,
      "outputs": [
        {
          "output_type": "error",
          "ename": "IndentationError",
          "evalue": "ignored",
          "traceback": [
            "\u001b[0;36m  File \u001b[0;32m\"<ipython-input-16-77423926c286>\"\u001b[0;36m, line \u001b[0;32m16\u001b[0m\n\u001b[0;31m    final_number = int(intput())\u001b[0m\n\u001b[0m                                ^\u001b[0m\n\u001b[0;31mIndentationError\u001b[0m\u001b[0;31m:\u001b[0m unindent does not match any outer indentation level\n"
          ]
        }
      ]
    },
    {
      "cell_type": "code",
      "metadata": {
        "colab": {
          "base_uri": "https://localhost:8080/"
        },
        "id": "fpn6DjtGVCOj",
        "outputId": "fef327f5-1825-4dcd-e485-a079c9d49f73"
      },
      "source": [
        "time_list = [3, 10, 4]\n",
        "alist = [[1, 2], [3], [5, 6]]\n",
        "asdf = list(map(int, input().split()))\n",
        "\n",
        "for i in range(0, 3) :\n",
        "  ts = alist[i][1]\n",
        "  time_sum = time_list[ts-1]\n",
        "\n",
        "  if asdf == ts :\n",
        "    mey ==alist[i][0]\n",
        "    time_sum = time_sum + time_list[mey]\n",
        "\n",
        "    \n",
        "\n",
        "  \n",
        "if asdf in alist:\n",
        "\n",
        "  print(alist[alist.index(asdf)][0])\n"
      ],
      "execution_count": null,
      "outputs": [
        {
          "output_type": "stream",
          "text": [
            "6\n"
          ],
          "name": "stdout"
        }
      ]
    },
    {
      "cell_type": "code",
      "metadata": {
        "id": "CNuntmtGHWvM"
      },
      "source": [
        "   node_number, rule_number = map(int, input().split())\n",
        "      \n",
        "   node_time = list(map(int, input().split()))\n",
        "\n",
        "   node_array = []\n",
        "   for i in range (1, rule_number+1) :\n",
        "      temporary = list(map(int,input().split()))\n",
        "      temporary_list = []\n",
        "      temporary_list.append(temporary)\n",
        "      node_array.append(temporary_list)\n",
        "  \n",
        "\n",
        "   print(node_array)\n",
        "   final_number = int(input())\n",
        "   \n",
        "   for i in range(0, rule_number) :\n",
        "     if final_number == node_array[i][1] :\n",
        "       next_number = node_array[i][0]\n",
        "       print(next_nu\n",
        "\n",
        "\n",
        "    "
      ],
      "execution_count": null,
      "outputs": []
    },
    {
      "cell_type": "code",
      "metadata": {
        "colab": {
          "base_uri": "https://localhost:8080/"
        },
        "id": "JHrdOzhScBoP",
        "outputId": "db640f04-24dd-4dfb-d788-c97cd2a12b34"
      },
      "source": [
        "aa = []\n",
        "for i in range (1, 3) :\n",
        "  aaaa = list(map(int, input().split()))\n",
        "  aa.append(aaaa)\n",
        "print(aa[0])\n"
      ],
      "execution_count": null,
      "outputs": [
        {
          "output_type": "stream",
          "text": [
            "1 2\n",
            "2 3\n",
            "[1, 2]\n"
          ],
          "name": "stdout"
        }
      ]
    },
    {
      "cell_type": "code",
      "metadata": {
        "colab": {
          "base_uri": "https://localhost:8080/"
        },
        "id": "joqgmIVe2lPh",
        "outputId": "f1acdf15-1145-49d4-8583-045243203be8"
      },
      "source": [
        "import tensorflow as tf\n",
        "\n",
        "from tensorflow.keras.models import Sequential\n",
        "from tensorflow.keras.layers import Flatten, Dense\n",
        "from tensorflow.keras.optimizers import SGD\n",
        "\n",
        "import numpy as np\n",
        "\n",
        "x_data = []\n",
        "for i in range(1, 1000):\n",
        "  x_data.append(i)\n",
        "\n",
        "t_data = []\n",
        "for i in range(1, 1000):\n",
        "  t_data.append(2*i+10)\n",
        "\n",
        "model = Sequential()\n",
        "\n",
        "model.add(Dense(15, input_shape=(1,), activation='relu'))\n",
        "model.add(Dense(15, activation = 'relu'))\n",
        "model.add(Dense(1, activation = 'sigmoid'))\n",
        "\n",
        "model.compile(optimizer=SGD(learning_rate=1e-2), loss = 'mse')\n",
        "\n",
        "model.summary()\n",
        "\n",
        "hist = model.fit(x_data, t_data, epochs=100)"
      ],
      "execution_count": null,
      "outputs": [
        {
          "output_type": "stream",
          "text": [
            "Model: \"sequential_4\"\n",
            "_________________________________________________________________\n",
            "Layer (type)                 Output Shape              Param #   \n",
            "=================================================================\n",
            "dense_12 (Dense)             (None, 15)                30        \n",
            "_________________________________________________________________\n",
            "dense_13 (Dense)             (None, 15)                240       \n",
            "_________________________________________________________________\n",
            "dense_14 (Dense)             (None, 1)                 16        \n",
            "=================================================================\n",
            "Total params: 286\n",
            "Trainable params: 286\n",
            "Non-trainable params: 0\n",
            "_________________________________________________________________\n",
            "Epoch 1/100\n",
            "32/32 [==============================] - 0s 2ms/step - loss: 1350748.2500\n",
            "Epoch 2/100\n",
            "32/32 [==============================] - 0s 2ms/step - loss: 1350747.7500\n",
            "Epoch 3/100\n",
            "32/32 [==============================] - 0s 2ms/step - loss: 1350747.6250\n",
            "Epoch 4/100\n",
            "32/32 [==============================] - 0s 2ms/step - loss: 1350747.7500\n",
            "Epoch 5/100\n",
            "32/32 [==============================] - 0s 2ms/step - loss: 1350747.7500\n",
            "Epoch 6/100\n",
            "32/32 [==============================] - 0s 2ms/step - loss: 1350747.8750\n",
            "Epoch 7/100\n",
            "32/32 [==============================] - 0s 2ms/step - loss: 1350748.0000\n",
            "Epoch 8/100\n",
            "32/32 [==============================] - 0s 2ms/step - loss: 1350747.6250\n",
            "Epoch 9/100\n",
            "32/32 [==============================] - 0s 2ms/step - loss: 1350747.5000\n",
            "Epoch 10/100\n",
            "32/32 [==============================] - 0s 2ms/step - loss: 1350747.6250\n",
            "Epoch 11/100\n",
            "32/32 [==============================] - 0s 2ms/step - loss: 1350747.7500\n",
            "Epoch 12/100\n",
            "32/32 [==============================] - 0s 2ms/step - loss: 1350747.8750\n",
            "Epoch 13/100\n",
            "32/32 [==============================] - 0s 2ms/step - loss: 1350747.6250\n",
            "Epoch 14/100\n",
            "32/32 [==============================] - 0s 2ms/step - loss: 1350747.7500\n",
            "Epoch 15/100\n",
            "32/32 [==============================] - 0s 2ms/step - loss: 1350747.5000\n",
            "Epoch 16/100\n",
            "32/32 [==============================] - 0s 2ms/step - loss: 1350747.6250\n",
            "Epoch 17/100\n",
            "32/32 [==============================] - 0s 2ms/step - loss: 1350747.7500\n",
            "Epoch 18/100\n",
            "32/32 [==============================] - 0s 2ms/step - loss: 1350747.7500\n",
            "Epoch 19/100\n",
            "32/32 [==============================] - 0s 2ms/step - loss: 1350747.5000\n",
            "Epoch 20/100\n",
            "32/32 [==============================] - 0s 2ms/step - loss: 1350747.6250\n",
            "Epoch 21/100\n",
            "32/32 [==============================] - 0s 2ms/step - loss: 1350747.7500\n",
            "Epoch 22/100\n",
            "32/32 [==============================] - 0s 2ms/step - loss: 1350747.6250\n",
            "Epoch 23/100\n",
            "32/32 [==============================] - 0s 2ms/step - loss: 1350747.7500\n",
            "Epoch 24/100\n",
            "32/32 [==============================] - 0s 2ms/step - loss: 1350747.7500\n",
            "Epoch 25/100\n",
            "32/32 [==============================] - 0s 2ms/step - loss: 1350747.6250\n",
            "Epoch 26/100\n",
            "32/32 [==============================] - 0s 2ms/step - loss: 1350747.6250\n",
            "Epoch 27/100\n",
            "32/32 [==============================] - 0s 2ms/step - loss: 1350747.8750\n",
            "Epoch 28/100\n",
            "32/32 [==============================] - 0s 2ms/step - loss: 1350747.8750\n",
            "Epoch 29/100\n",
            "32/32 [==============================] - 0s 2ms/step - loss: 1350747.6250\n",
            "Epoch 30/100\n",
            "32/32 [==============================] - 0s 2ms/step - loss: 1350747.6250\n",
            "Epoch 31/100\n",
            "32/32 [==============================] - 0s 2ms/step - loss: 1350747.8750\n",
            "Epoch 32/100\n",
            "32/32 [==============================] - 0s 2ms/step - loss: 1350747.5000\n",
            "Epoch 33/100\n",
            "32/32 [==============================] - 0s 2ms/step - loss: 1350747.7500\n",
            "Epoch 34/100\n",
            "32/32 [==============================] - 0s 2ms/step - loss: 1350747.7500\n",
            "Epoch 35/100\n",
            "32/32 [==============================] - 0s 2ms/step - loss: 1350747.3750\n",
            "Epoch 36/100\n",
            "32/32 [==============================] - 0s 2ms/step - loss: 1350747.6250\n",
            "Epoch 37/100\n",
            "32/32 [==============================] - 0s 2ms/step - loss: 1350747.3750\n",
            "Epoch 38/100\n",
            "32/32 [==============================] - 0s 2ms/step - loss: 1350748.0000\n",
            "Epoch 39/100\n",
            "32/32 [==============================] - 0s 2ms/step - loss: 1350747.6250\n",
            "Epoch 40/100\n",
            "32/32 [==============================] - 0s 2ms/step - loss: 1350747.5000\n",
            "Epoch 41/100\n",
            "32/32 [==============================] - 0s 2ms/step - loss: 1350747.7500\n",
            "Epoch 42/100\n",
            "32/32 [==============================] - 0s 2ms/step - loss: 1350747.7500\n",
            "Epoch 43/100\n",
            "32/32 [==============================] - 0s 2ms/step - loss: 1350747.6250\n",
            "Epoch 44/100\n",
            "32/32 [==============================] - 0s 2ms/step - loss: 1350747.7500\n",
            "Epoch 45/100\n",
            "32/32 [==============================] - 0s 2ms/step - loss: 1350747.7500\n",
            "Epoch 46/100\n",
            "32/32 [==============================] - 0s 2ms/step - loss: 1350747.5000\n",
            "Epoch 47/100\n",
            "32/32 [==============================] - 0s 2ms/step - loss: 1350747.6250\n",
            "Epoch 48/100\n",
            "32/32 [==============================] - 0s 2ms/step - loss: 1350747.7500\n",
            "Epoch 49/100\n",
            "32/32 [==============================] - 0s 2ms/step - loss: 1350747.6250\n",
            "Epoch 50/100\n",
            "32/32 [==============================] - 0s 2ms/step - loss: 1350747.6250\n",
            "Epoch 51/100\n",
            "32/32 [==============================] - 0s 2ms/step - loss: 1350747.6250\n",
            "Epoch 52/100\n",
            "32/32 [==============================] - 0s 2ms/step - loss: 1350747.8750\n",
            "Epoch 53/100\n",
            "32/32 [==============================] - 0s 2ms/step - loss: 1350747.7500\n",
            "Epoch 54/100\n",
            "32/32 [==============================] - 0s 2ms/step - loss: 1350747.6250\n",
            "Epoch 55/100\n",
            "32/32 [==============================] - 0s 2ms/step - loss: 1350747.6250\n",
            "Epoch 56/100\n",
            "32/32 [==============================] - 0s 2ms/step - loss: 1350747.3750\n",
            "Epoch 57/100\n",
            "32/32 [==============================] - 0s 2ms/step - loss: 1350747.6250\n",
            "Epoch 58/100\n",
            "32/32 [==============================] - 0s 2ms/step - loss: 1350747.5000\n",
            "Epoch 59/100\n",
            "32/32 [==============================] - 0s 2ms/step - loss: 1350747.8750\n",
            "Epoch 60/100\n",
            "32/32 [==============================] - 0s 2ms/step - loss: 1350747.6250\n",
            "Epoch 61/100\n",
            "32/32 [==============================] - 0s 2ms/step - loss: 1350747.8750\n",
            "Epoch 62/100\n",
            "32/32 [==============================] - 0s 2ms/step - loss: 1350747.6250\n",
            "Epoch 63/100\n",
            "32/32 [==============================] - 0s 2ms/step - loss: 1350747.6250\n",
            "Epoch 64/100\n",
            "32/32 [==============================] - 0s 2ms/step - loss: 1350747.6250\n",
            "Epoch 65/100\n",
            "32/32 [==============================] - 0s 2ms/step - loss: 1350747.8750\n",
            "Epoch 66/100\n",
            "32/32 [==============================] - 0s 2ms/step - loss: 1350747.6250\n",
            "Epoch 67/100\n",
            "32/32 [==============================] - 0s 2ms/step - loss: 1350747.6250\n",
            "Epoch 68/100\n",
            "32/32 [==============================] - 0s 2ms/step - loss: 1350747.8750\n",
            "Epoch 69/100\n",
            "32/32 [==============================] - 0s 2ms/step - loss: 1350747.6250\n",
            "Epoch 70/100\n",
            "32/32 [==============================] - 0s 2ms/step - loss: 1350747.7500\n",
            "Epoch 71/100\n",
            "32/32 [==============================] - 0s 2ms/step - loss: 1350747.8750\n",
            "Epoch 72/100\n",
            "32/32 [==============================] - 0s 2ms/step - loss: 1350747.8750\n",
            "Epoch 73/100\n",
            "32/32 [==============================] - 0s 2ms/step - loss: 1350747.6250\n",
            "Epoch 74/100\n",
            "32/32 [==============================] - 0s 2ms/step - loss: 1350747.7500\n",
            "Epoch 75/100\n",
            "32/32 [==============================] - 0s 2ms/step - loss: 1350747.7500\n",
            "Epoch 76/100\n",
            "32/32 [==============================] - 0s 2ms/step - loss: 1350747.7500\n",
            "Epoch 77/100\n",
            "32/32 [==============================] - 0s 2ms/step - loss: 1350747.7500\n",
            "Epoch 78/100\n",
            "32/32 [==============================] - 0s 2ms/step - loss: 1350747.6250\n",
            "Epoch 79/100\n",
            "32/32 [==============================] - 0s 2ms/step - loss: 1350747.7500\n",
            "Epoch 80/100\n",
            "32/32 [==============================] - 0s 2ms/step - loss: 1350747.6250\n",
            "Epoch 81/100\n",
            "32/32 [==============================] - 0s 2ms/step - loss: 1350747.7500\n",
            "Epoch 82/100\n",
            "32/32 [==============================] - 0s 2ms/step - loss: 1350747.6250\n",
            "Epoch 83/100\n",
            "32/32 [==============================] - 0s 2ms/step - loss: 1350747.7500\n",
            "Epoch 84/100\n",
            "32/32 [==============================] - 0s 2ms/step - loss: 1350747.7500\n",
            "Epoch 85/100\n",
            "32/32 [==============================] - 0s 2ms/step - loss: 1350747.7500\n",
            "Epoch 86/100\n",
            "32/32 [==============================] - 0s 2ms/step - loss: 1350747.6250\n",
            "Epoch 87/100\n",
            "32/32 [==============================] - 0s 2ms/step - loss: 1350747.7500\n",
            "Epoch 88/100\n",
            "32/32 [==============================] - 0s 2ms/step - loss: 1350747.5000\n",
            "Epoch 89/100\n",
            "32/32 [==============================] - 0s 2ms/step - loss: 1350747.8750\n",
            "Epoch 90/100\n",
            "32/32 [==============================] - 0s 2ms/step - loss: 1350747.5000\n",
            "Epoch 91/100\n",
            "32/32 [==============================] - 0s 2ms/step - loss: 1350747.6250\n",
            "Epoch 92/100\n",
            "32/32 [==============================] - 0s 2ms/step - loss: 1350747.6250\n",
            "Epoch 93/100\n",
            "32/32 [==============================] - 0s 2ms/step - loss: 1350747.6250\n",
            "Epoch 94/100\n",
            "32/32 [==============================] - 0s 2ms/step - loss: 1350747.5000\n",
            "Epoch 95/100\n",
            "32/32 [==============================] - 0s 2ms/step - loss: 1350747.7500\n",
            "Epoch 96/100\n",
            "32/32 [==============================] - 0s 2ms/step - loss: 1350747.7500\n",
            "Epoch 97/100\n",
            "32/32 [==============================] - 0s 2ms/step - loss: 1350747.7500\n",
            "Epoch 98/100\n",
            "32/32 [==============================] - 0s 2ms/step - loss: 1350747.7500\n",
            "Epoch 99/100\n",
            "32/32 [==============================] - 0s 2ms/step - loss: 1350747.7500\n",
            "Epoch 100/100\n",
            "32/32 [==============================] - 0s 2ms/step - loss: 1350747.7500\n"
          ],
          "name": "stdout"
        }
      ]
    },
    {
      "cell_type": "code",
      "metadata": {
        "colab": {
          "base_uri": "https://localhost:8080/"
        },
        "id": "j1_ggeSu4PI2",
        "outputId": "f0ff1be8-e2d3-4ee3-bfc2-36ffe34191e5"
      },
      "source": [
        "weights = model.get_weights()\n",
        "\n",
        "print(weights)"
      ],
      "execution_count": null,
      "outputs": [
        {
          "output_type": "stream",
          "text": [
            "[array([[-1.2149314 ,  1.1763939 , -0.70193386]], dtype=float32), array([0.        , 0.21476613, 0.        ], dtype=float32), array([[-0.80094886, -0.15032673,  0.14265299],\n",
            "       [ 0.5600142 , -0.11949134,  0.7584955 ],\n",
            "       [ 0.8048222 , -0.40253568,  0.25732136]], dtype=float32), array([0.24726205, 0.        , 0.30858123], dtype=float32), array([[1.0238081 ],\n",
            "       [0.23532176],\n",
            "       [1.2940007 ]], dtype=float32), array([0.27414963], dtype=float32)]\n"
          ],
          "name": "stdout"
        }
      ]
    },
    {
      "cell_type": "code",
      "metadata": {
        "colab": {
          "base_uri": "https://localhost:8080/"
        },
        "id": "WURsNRBM4UXn",
        "outputId": "9415aae5-3d44-4d21-a025-8abb94179a05"
      },
      "source": [
        "rlist = [1,2,3]\n",
        "result = model.predict(rlist[:])\n",
        "print(result)"
      ],
      "execution_count": null,
      "outputs": [
        {
          "output_type": "stream",
          "text": [
            "[[0.9452826]\n",
            " [0.9901787]\n",
            " [0.998304 ]]\n"
          ],
          "name": "stdout"
        }
      ]
    }
  ]
}